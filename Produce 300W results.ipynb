{
 "cells": [
  {
   "cell_type": "code",
   "execution_count": 1,
   "metadata": {
    "collapsed": false
   },
   "outputs": [],
   "source": [
    "%matplotlib inline\n",
    "\n",
    "import tensorflow as tf\n",
    "import menpo.io as mio\n",
    "import utils\n",
    "import pandas\n",
    "import menpo\n",
    "import numpy as np\n",
    "\n",
    "from menpofit.visualize import plot_cumulative_error_distribution\n",
    "from menpofit.error import compute_cumulative_error\n",
    "from scipy.integrate import simps\n",
    "from pathlib import Path\n",
    "from data_provider import align_reference_shape_w_image"
   ]
  },
  {
   "cell_type": "code",
   "execution_count": 2,
   "metadata": {
    "collapsed": false,
    "scrolled": true
   },
   "outputs": [],
   "source": [
    "# Download pretrained model.\n",
    "!wget https://www.doc.ic.ac.uk/~gt108/theano_mdm.pb --no-check-certificate\n",
    "\n",
    "# Download 300W dataset from http://ibug.doc.ic.ac.uk/resources/300-W/.\n",
    "images = mio.import_images('PATH_TO_300w')"
   ]
  },
  {
   "cell_type": "code",
   "execution_count": 2,
   "metadata": {
    "collapsed": true
   },
   "outputs": [],
   "source": [
    "images = mio.import_images('/vol/atlas/databases/300w')"
   ]
  },
  {
   "cell_type": "code",
   "execution_count": 3,
   "metadata": {
    "collapsed": false
   },
   "outputs": [],
   "source": [
    "MDM_MODEL_PATH = 'theano_mdm.pb'\n",
    "bounding_boxes_path = Path('bbs/300w/')"
   ]
  },
  {
   "cell_type": "code",
   "execution_count": 4,
   "metadata": {
    "collapsed": true
   },
   "outputs": [],
   "source": [
    "# the image to fit (rgb image of HWC) where H: height, W: weight and C\n",
    "# the number of channels (=3).\n",
    "image = tf.placeholder(tf.float32, shape=(None, None, 3), name='images')\n",
    "\n",
    "# we only use the upper-left (x0, y0) and lower-down (x1, y1) points\n",
    "# of the bounding box as a vector (x0, y0, x1, y1).\n",
    "initial_bb = tf.placeholder(tf.float32, shape=(4, 2), name='inits')"
   ]
  },
  {
   "cell_type": "markdown",
   "metadata": {},
   "source": [
    "## Load the model"
   ]
  },
  {
   "cell_type": "code",
   "execution_count": 5,
   "metadata": {
    "collapsed": false
   },
   "outputs": [],
   "source": [
    "reference_shape = mio.import_pickle('reference_shape.pkl')\n",
    "rescaled_image, initial_shape, ratio = align_reference_shape_w_image(reference_shape, initial_bb, image)"
   ]
  },
  {
   "cell_type": "code",
   "execution_count": 6,
   "metadata": {
    "collapsed": false
   },
   "outputs": [],
   "source": [
    "import mdm_model\n",
    "\n",
    "preds = mdm_model.model(tf.expand_dims(rescaled_image, 0), tf.expand_dims(initial_shape, 0))\n",
    "pred = preds[-1]"
   ]
  },
  {
   "cell_type": "code",
   "execution_count": 7,
   "metadata": {
    "collapsed": false
   },
   "outputs": [],
   "source": [
    "config = tf.ConfigProto(device_count = {'GPU': 0})\n",
    "sess = tf.Session(config=config)"
   ]
  },
  {
   "cell_type": "code",
   "execution_count": 78,
   "metadata": {
    "collapsed": false
   },
   "outputs": [],
   "source": [
    "saver = tf.train.Saver()\n",
    "saver.restore(sess, './ckpt/train/model.ckpt-17661')"
   ]
  },
  {
   "cell_type": "code",
   "execution_count": 5,
   "metadata": {
    "collapsed": false
   },
   "outputs": [],
   "source": [
    "with open(MDM_MODEL_PATH, 'rb') as f:\n",
    "    graph_def = tf.GraphDef.FromString(f.read())\n",
    "    pred,  = tf.import_graph_def(graph_def,\n",
    "                                 input_map={\"image\": image, \"bounding_box\": initial_bb},\n",
    "                                 return_elements=['prediction:0'])"
   ]
  },
  {
   "cell_type": "markdown",
   "metadata": {},
   "source": [
    "## Fitting images"
   ]
  },
  {
   "cell_type": "code",
   "execution_count": 9,
   "metadata": {
    "collapsed": true
   },
   "outputs": [],
   "source": [
    "def outer_eye_corner_68(prediction, ground_truth):\n",
    "    \"\"\"Computes the outer-eye corner normalised rmse error.\n",
    "    \n",
    "    Args:\n",
    "      prediction: A menpo `PointCloud' with the predicted landmarks.\n",
    "      ground_truth: A menpo `PointCloud' with the ground truth landmarks.\n",
    "    Returns:\n",
    "      A scalar with the normalized error.\n",
    "    \"\"\"\n",
    "    \n",
    "    num_landmarks = 68\n",
    "    assert prediction.points.shape[0] == num_landmarks\n",
    "    assert ground_truth.points.shape[0] == num_landmarks\n",
    "\n",
    "    interocular_dist = np.linalg.norm(ground_truth.points[36] - ground_truth.points[45])    \n",
    "    rmse_error = np.sum(np.linalg.norm(prediction.points - ground_truth.points, axis=-1))\n",
    "\n",
    "    return rmse_error / (num_landmarks * interocular_dist)"
   ]
  },
  {
   "cell_type": "code",
   "execution_count": 10,
   "metadata": {
    "collapsed": true
   },
   "outputs": [],
   "source": [
    "def fit_image(im):\n",
    "    \"\"\"Estimates the landmarks usign the provided image and bounding box.\n",
    "    \n",
    "    Args:\n",
    "        A menpo `Image' with the bounding_box attached.\n",
    "    Returns:\n",
    "        A menpo `PointCloud' with the predicted landmarks.\n",
    "    \"\"\"\n",
    "        \n",
    "    # menpo stores images CHW instead of HWC that TensorFlow uses.\n",
    "    pixels = im.pixels_with_channels_at_back()\n",
    "\n",
    "    # the model expects rgb images.\n",
    "    if im.n_channels == 1:\n",
    "        pixels = np.dstack([pixels] * 3)\n",
    "\n",
    "    bounding_box = im.landmarks['bounding_box'].lms\n",
    "\n",
    "    prediction, = sess.run(pred * ratio, feed_dict={\n",
    "        image: pixels,\n",
    "        # grab the upper-left and lower-down points of the bounding box.\n",
    "        initial_bb: bounding_box.points}\n",
    "    )\n",
    "    \n",
    "    return menpo.shape.PointCloud(prediction)"
   ]
  },
  {
   "cell_type": "code",
   "execution_count": 79,
   "metadata": {
    "collapsed": false
   },
   "outputs": [
    {
     "name": "stdout",
     "output_type": "stream",
     "text": [
      "599/600 @0.05=59.667                                                            "
     ]
    }
   ],
   "source": [
    "errors = []\n",
    "\n",
    "images_iter = menpo.visualize.print_progress(images, prefix='Loading and fitting images')\n",
    "\n",
    "for i, im in enumerate(images):\n",
    "    bb_name = im.path.stem + '.pts'\n",
    "    bounding_box = mio.import_landmark_file(bounding_boxes_path / bb_name)[None]\n",
    "    im.landmarks['bounding_box'] = bounding_box\n",
    "\n",
    "#     mirrored_fit = utils.mirror_landmarks_68(\n",
    "#         fit_image(utils.mirror_image_bb(im)), im.shape)\n",
    "\n",
    "#     prediction = menpo.shape.mean_pointcloud((fit_image(im), mirrored_fit))\n",
    "    prediction = fit_image(im)\n",
    "    error = outer_eye_corner_68(prediction, im.landmarks['PTS'].lms)\n",
    "    errors.append(error)\n",
    "    menpo.visualize.print_dynamic(\"{}/{} @0.05={:.3f}\".format(i, len(images), (np.array(errors) < .05).mean() * 100))"
   ]
  },
  {
   "cell_type": "markdown",
   "metadata": {},
   "source": [
    "## Visualising results"
   ]
  },
  {
   "cell_type": "code",
   "execution_count": 19,
   "metadata": {
    "collapsed": false
   },
   "outputs": [],
   "source": [
    "import matplotlib.pyplot as plt"
   ]
  },
  {
   "cell_type": "code",
   "execution_count": 80,
   "metadata": {
    "collapsed": false
   },
   "outputs": [
    {
     "data": {
      "image/png": "[encoded data removed]",
      "text/plain": [
       "<matplotlib.figure.Figure at 0x7fe24afc2358>"
      ]
     },
     "metadata": {},
     "output_type": "display_data"
    }
   ],
   "source": [
    "plt.yticks(np.linspace(0, 1, 11))\n",
    "\n",
    "plot_cumulative_error_distribution(\n",
    "    [errors],\n",
    "    error_range=(0., 0.09, .01), \n",
    "    legend_entries=['MDM'], \n",
    "    line_colour=[ 'k'], \n",
    "    marker_edge_colour=['k'],\n",
    "    marker_style=['s'],\n",
    "    figure_size=(6, 5),\n",
    "    marker_size=10,\n",
    "    x_label='Normalised Point-to-Point Error\\n(interocular distance)',\n",
    ");"
   ]
  },
  {
   "cell_type": "code",
   "execution_count": 45,
   "metadata": {
    "collapsed": true
   },
   "outputs": [],
   "source": [
    "def AUC(errors, max_error, step_error=0.0001):\n",
    "    x_axis = list(np.arange(0., max_error + step_error, step_error))\n",
    "    ced = np.array(compute_cumulative_error(errors, x_axis))\n",
    "    return simps(ced, x=x_axis) / max_error, 1. - ced[-1]"
   ]
  },
  {
   "cell_type": "code",
   "execution_count": 46,
   "metadata": {
    "collapsed": false
   },
   "outputs": [
    {
     "name": "stdout",
     "output_type": "stream",
     "text": [
      "The AUC @ 0.08 is 41.01 and 8.67% of the errors are failures\n"
     ]
    }
   ],
   "source": [
    "auc, failures = AUC(errors, max_error=0.08)\n",
    "print('The AUC @ 0.08 is {:.2f} and {:.2f}% of the errors are failures'.format(auc * 100, failures * 100))"
   ]
  }
 ],
 "metadata": {
  "kernelspec": {
   "display_name": "Python [conda env:menpo]",
   "language": "python",
   "name": "conda-env-menpo-py"
  },
  "language_info": {
   "codemirror_mode": {
    "name": "ipython",
    "version": 3
   },
   "file_extension": ".py",
   "mimetype": "text/x-python",
   "name": "python",
   "nbconvert_exporter": "python",
   "pygments_lexer": "ipython3",
   "version": "3.5.2"
  }
 },
 "nbformat": 4,
 "nbformat_minor": 0
}
